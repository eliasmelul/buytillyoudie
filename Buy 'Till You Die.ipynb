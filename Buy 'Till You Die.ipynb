{
 "cells": [
  {
   "cell_type": "markdown",
   "metadata": {},
   "source": [
    "___\n",
    "\n",
    "<a href='https://github.com/eliasmelul/'> <img src='https://s3.us-east-2.amazonaws.com/wordontheamazon.com/NoMargin_NewLogo.png' style='width: 15em;' align='right' /></a>\n",
    "# Buy 'Till You Die\n",
    "### Predicting Customer Churn\n",
    "___\n",
    "<h4 align=\"right\">by Elias Melul, Data Scientist </h4> \n",
    "\n",
    "___\n",
    "## Marketing Theory\n",
    "<img src=\"https://i.ibb.co/GHTPdbc/jeffquote1.jpg\" alt=\"jeffquote1\" border=\"0\" width = \"500\">\n",
    "\n",
    "Customer centricity is essential for a successful strategy. Without the customer, there are no sales, no revenue, no profit... no company! That's why customer relationship management has become a critical aspect of any company. So what is customer relationship management?\n",
    "\n",
    "Customer Relationship Management is the process of aligning products and services that a firm offers to an understanding of the customer's needs and goals, use cases, and priorities. Hence, companies should not seek for the right customer for their product, but rather the right product for the customer. That is why in this notebook we will approach CRM from a resonance focus - that is, shift product management or marketing initiatives to fit customer's needs by differentiating on the most significant elements to customers.\n",
    "\n",
    "Throughout this notebook, we will make reference to the following framework, under the assumption that marketing initiatives try to maximize profit. Fair assumption, right?\n",
    "\n",
    "<img src=\"https://i.ibb.co/3TZKD5v/Framework.png\" alt=\"Framework\" border=\"0\">\n",
    "\n",
    "We also need to understand some basic marketing concepts before we begin. More specifically, we will look at Sunil Gupta's definition of <a href=\"https://www.researchgate.net/publication/237287176_Modeling_Customer_Lifetime_Value\">Customer Lifetime Value</a>, CLV for short, and the Customer Equity equation which is based on the framework proposed.\n",
    "\n",
    "### Customer Lifetime Value and Customer Equity\n",
    "CLV is typically defined as the present value of all future profits that a customer generates over his/her life with the firm. \n",
    "\n",
    "<img src=\"https://i.ibb.co/0V1FRn4/PVFormula.png\" alt=\"PVFormula\" border=\"0\">\n",
    "\n",
    "While similar to the idea of discounted cash flows used in Finance, the CLV is calculated on individual customers or customer segments, and the CLV incorporates the posibility that a customer may leave (churn) to consume the competitor's product or service. Researchers and practitioners have developed numerous ways of computing the CLV, all valid but with different advantages and dissadvantages. For instance:\n",
    "\n",
    "<img src=\"https://i.ibb.co/HgMbP8j/CLVComp.png\" alt=\"CLVComp\" border=\"0\">\n",
    "\n",
    "Gupta and Lehmann (2003, 2005) showed that if margins (p-c) and retention rates are constant over time, using an infinite horizon, one can simplify the CLV through an infinite geometric series to the following:\n",
    "\n",
    "<img src=\"https://i.ibb.co/6mzqQw6/CLVGupta.png\" alt=\"CLVGupta\" border=\"0\">\n",
    "\n",
    "In other words, the CLV simplifies to be the profit margin times the margin multiple! So what does the margin mutiple mean? It is simply the amount of times the firm will see a customer generate profits during his/her relationship with the firm.\n",
    "\n",
    "What are the assumptions that this Infinite Horizon CLV makes?\n",
    "1. Customers have a constant profit margin, m, over time\n",
    "2. Customers have a constant retention rate, alpha, over time\n",
    "3. Discount rate is constant over time\n",
    "4. Value is estimated over an infinite horizon\n",
    "\n",
    "This metric is key to quantifying the revenues and benefits of acquiring new customers or retaining them.\n",
    "\n",
    "Let's look at a quick **CLV example**:"
   ]
  },
  {
   "cell_type": "markdown",
   "metadata": {},
   "source": [
    "    Let's assume that the retention rate is 90%, and that the discount rate is 10%. What is the margin multiplier?\n",
    "\n",
    "    If we assume that the margin is $60, what is the CLV?"
   ]
  },
  {
   "cell_type": "code",
   "execution_count": 1,
   "metadata": {},
   "outputs": [],
   "source": [
    "def margin_multiplier(alpha, discountrate):\n",
    "    M = alpha/(1+discountrate-alpha)\n",
    "    return M\n",
    "def clvCalc(margin, multiplier):\n",
    "    clv = margin*multiplier\n",
    "    return clv"
   ]
  },
  {
   "cell_type": "code",
   "execution_count": 2,
   "metadata": {},
   "outputs": [
    {
     "name": "stdout",
     "output_type": "stream",
     "text": [
      "The margin multiple is 4.5.\n",
      "The CLV is $270.\n"
     ]
    }
   ],
   "source": [
    "print(f\"The margin multiple is {round(margin_multiplier(0.9,0.1),2)}.\")\n",
    "print(f\"The CLV is ${round(clvCalc(60,margin_multiplier(0.9,0.1)))}.\")"
   ]
  },
  {
   "cell_type": "markdown",
   "metadata": {},
   "source": [
    "But what if the firm experiences growth over time?\n",
    "\n",
    "Simple. Gupta and Lehmann have shown that when margins grow at a constant rate g, the CLV becomes:\n",
    "\n",
    "<img src=\"https://i.ibb.co/JjF3hNB/CLVgrowth.png\" alt=\"CLVgrowth\" border=\"0\">\n",
    "\n",
    "So let's assume that the company we were talking about experiences 3% growth. How would our evaluation change?"
   ]
  },
  {
   "cell_type": "code",
   "execution_count": 3,
   "metadata": {},
   "outputs": [],
   "source": [
    "def margin_multiplier(alpha, discountrate, growth = None):\n",
    "    if growth == None:\n",
    "        M = alpha/(1+discountrate-alpha)\n",
    "    else:\n",
    "        M = alpha/(1+discountrate-alpha*(1+growth))\n",
    "    return M"
   ]
  },
  {
   "cell_type": "code",
   "execution_count": 4,
   "metadata": {},
   "outputs": [
    {
     "name": "stdout",
     "output_type": "stream",
     "text": [
      "The margin multiple is 5.2.\n",
      "The CLV is $312.\n"
     ]
    }
   ],
   "source": [
    "print(f\"The margin multiple is {round(margin_multiplier(0.9,0.1,0.03),2)}.\")\n",
    "print(f\"The CLV is ${round(clvCalc(60,margin_multiplier(0.9,0.1,0.03)))}.\")"
   ]
  },
  {
   "cell_type": "markdown",
   "metadata": {},
   "source": [
    "**Customer Equity**\n",
    "\n",
    "At the heart of every marketing initiative, is a drive to increase profits, right?\n",
    "\n",
    "<img src=\"https://i.ibb.co/p2mmtHp/Color-Framework.png\" alt=\"Color-Framework\" border=\"0\">\n",
    "\n",
    "The above equation shows the expected customer equity based on the variables in our framework. From here on out, everything that we try to do is intended to increase customer equity, which in turn increases profitability. Mostly, we will deal with customer acquisition and retention. We will start with the latter, but first, let's introduce our data!\n",
    "\n",
    "\n",
    "## Data Understanding\n",
    "\n",
    "Throughout the notebook, we will use <a href=\"https://www.kaggle.com/blastchar/telco-customer-churn\">Telco Customer Churn</a> data. It is a sample dataset that include one row per customer including the following features and characteristics of a customer:\n",
    "* customerID\n",
    "* gender\n",
    "* SeniorCitizen - whether a customer is a senior citizen or not (binary)\n",
    "* Partner - whether the customer is single by legal status or not (Yes or No)\n",
    "* Dependents - whether the customer has legal dependents of not (Yes or No)\n",
    "* tenure - the number of months the customer has been with the company\n",
    "* PhoneService - whether the customer's account includes phone service (Yes or No)\n",
    "* MultipleLines - whether the customer's account includes multiple lines or just one (Yes, No, or No phone service)\n",
    "* InternetService - whether the customer's account includes internet serice (DSL, Fiber optic, or No)\n",
    "* OnlineSecurity - whether the customer's account includes online security service (Yes, No, or No internet service)\n",
    "* OnlineBackup - whether the customer's account includes online backup service (Yes, No, or No internet service)\n",
    "* DeviceProtection - whether the customer's account includes protection service (Yes, No, or No internet service)\n",
    "* TechSupport - whether the customer's account includes IT support (Yes, No, or No internet service)\n",
    "* StreamingTV - whether the customer's account includes streaming services (Yes, No, or No internet service)\n",
    "* StreamingMovies - whether the customer's account includes streaming services (Yes, No, or No internet service)\n",
    "* Contract - the type of contract the customer has with Telco (Month-to-month, One year, or Two year)\n",
    "* PaperlessBilling - whether the customer signed up to paperless billing (Yes or No)\n",
    "* PaymentMethod - method of payment of contract (Electronic check, Mailed check, Bank transfer (automatic), or Credit card (automatic)\n",
    "* MonthlyCharges - the monthly charges (in USD) of each customer\n",
    "* TotalCharges - the total charges (in USD) Telco has processed for each customer during their lifetime\n",
    "* Churn - whether the customer has churned or not (Yes or No)\n",
    "\n",
    "Note that Telco is not an actual company, but rather sample data published by <a href=\"https://www.ibm.com/support/knowledgecenter/SSEP7J_11.1.0/com.ibm.swg.ba.cognos.ig_smples.doc/c_inst_installc8samples.html\">IBM</a>."
   ]
  },
  {
   "cell_type": "code",
   "execution_count": 5,
   "metadata": {},
   "outputs": [],
   "source": [
    "import pandas as pd\n",
    "import numpy as np\n",
    "import seaborn as sns\n",
    "import matplotlib.pyplot as plt\n",
    "\n",
    "%matplotlib inline"
   ]
  },
  {
   "cell_type": "code",
   "execution_count": 6,
   "metadata": {},
   "outputs": [],
   "source": [
    "data = pd.read_csv(\"C:/Users/melul/Desktop/BTYD/WA_Fn-UseC_-Telco-Customer-Churn.csv\", index_col=0)"
   ]
  },
  {
   "cell_type": "code",
   "execution_count": 7,
   "metadata": {},
   "outputs": [
    {
     "name": "stdout",
     "output_type": "stream",
     "text": [
      "(7043, 20)\n"
     ]
    },
    {
     "data": {
      "text/html": [
       "<div>\n",
       "<style scoped>\n",
       "    .dataframe tbody tr th:only-of-type {\n",
       "        vertical-align: middle;\n",
       "    }\n",
       "\n",
       "    .dataframe tbody tr th {\n",
       "        vertical-align: top;\n",
       "    }\n",
       "\n",
       "    .dataframe thead th {\n",
       "        text-align: right;\n",
       "    }\n",
       "</style>\n",
       "<table border=\"1\" class=\"dataframe\">\n",
       "  <thead>\n",
       "    <tr style=\"text-align: right;\">\n",
       "      <th></th>\n",
       "      <th>gender</th>\n",
       "      <th>SeniorCitizen</th>\n",
       "      <th>Partner</th>\n",
       "      <th>Dependents</th>\n",
       "      <th>tenure</th>\n",
       "      <th>PhoneService</th>\n",
       "      <th>MultipleLines</th>\n",
       "      <th>InternetService</th>\n",
       "      <th>OnlineSecurity</th>\n",
       "      <th>OnlineBackup</th>\n",
       "      <th>DeviceProtection</th>\n",
       "      <th>TechSupport</th>\n",
       "      <th>StreamingTV</th>\n",
       "      <th>StreamingMovies</th>\n",
       "      <th>Contract</th>\n",
       "      <th>PaperlessBilling</th>\n",
       "      <th>PaymentMethod</th>\n",
       "      <th>MonthlyCharges</th>\n",
       "      <th>TotalCharges</th>\n",
       "      <th>Churn</th>\n",
       "    </tr>\n",
       "    <tr>\n",
       "      <th>customerID</th>\n",
       "      <th></th>\n",
       "      <th></th>\n",
       "      <th></th>\n",
       "      <th></th>\n",
       "      <th></th>\n",
       "      <th></th>\n",
       "      <th></th>\n",
       "      <th></th>\n",
       "      <th></th>\n",
       "      <th></th>\n",
       "      <th></th>\n",
       "      <th></th>\n",
       "      <th></th>\n",
       "      <th></th>\n",
       "      <th></th>\n",
       "      <th></th>\n",
       "      <th></th>\n",
       "      <th></th>\n",
       "      <th></th>\n",
       "      <th></th>\n",
       "    </tr>\n",
       "  </thead>\n",
       "  <tbody>\n",
       "    <tr>\n",
       "      <td>7590-VHVEG</td>\n",
       "      <td>Female</td>\n",
       "      <td>0</td>\n",
       "      <td>Yes</td>\n",
       "      <td>No</td>\n",
       "      <td>1</td>\n",
       "      <td>No</td>\n",
       "      <td>No phone service</td>\n",
       "      <td>DSL</td>\n",
       "      <td>No</td>\n",
       "      <td>Yes</td>\n",
       "      <td>No</td>\n",
       "      <td>No</td>\n",
       "      <td>No</td>\n",
       "      <td>No</td>\n",
       "      <td>Month-to-month</td>\n",
       "      <td>Yes</td>\n",
       "      <td>Electronic check</td>\n",
       "      <td>29.85</td>\n",
       "      <td>29.85</td>\n",
       "      <td>No</td>\n",
       "    </tr>\n",
       "    <tr>\n",
       "      <td>5575-GNVDE</td>\n",
       "      <td>Male</td>\n",
       "      <td>0</td>\n",
       "      <td>No</td>\n",
       "      <td>No</td>\n",
       "      <td>34</td>\n",
       "      <td>Yes</td>\n",
       "      <td>No</td>\n",
       "      <td>DSL</td>\n",
       "      <td>Yes</td>\n",
       "      <td>No</td>\n",
       "      <td>Yes</td>\n",
       "      <td>No</td>\n",
       "      <td>No</td>\n",
       "      <td>No</td>\n",
       "      <td>One year</td>\n",
       "      <td>No</td>\n",
       "      <td>Mailed check</td>\n",
       "      <td>56.95</td>\n",
       "      <td>1889.5</td>\n",
       "      <td>No</td>\n",
       "    </tr>\n",
       "    <tr>\n",
       "      <td>3668-QPYBK</td>\n",
       "      <td>Male</td>\n",
       "      <td>0</td>\n",
       "      <td>No</td>\n",
       "      <td>No</td>\n",
       "      <td>2</td>\n",
       "      <td>Yes</td>\n",
       "      <td>No</td>\n",
       "      <td>DSL</td>\n",
       "      <td>Yes</td>\n",
       "      <td>Yes</td>\n",
       "      <td>No</td>\n",
       "      <td>No</td>\n",
       "      <td>No</td>\n",
       "      <td>No</td>\n",
       "      <td>Month-to-month</td>\n",
       "      <td>Yes</td>\n",
       "      <td>Mailed check</td>\n",
       "      <td>53.85</td>\n",
       "      <td>108.15</td>\n",
       "      <td>Yes</td>\n",
       "    </tr>\n",
       "    <tr>\n",
       "      <td>7795-CFOCW</td>\n",
       "      <td>Male</td>\n",
       "      <td>0</td>\n",
       "      <td>No</td>\n",
       "      <td>No</td>\n",
       "      <td>45</td>\n",
       "      <td>No</td>\n",
       "      <td>No phone service</td>\n",
       "      <td>DSL</td>\n",
       "      <td>Yes</td>\n",
       "      <td>No</td>\n",
       "      <td>Yes</td>\n",
       "      <td>Yes</td>\n",
       "      <td>No</td>\n",
       "      <td>No</td>\n",
       "      <td>One year</td>\n",
       "      <td>No</td>\n",
       "      <td>Bank transfer (automatic)</td>\n",
       "      <td>42.30</td>\n",
       "      <td>1840.75</td>\n",
       "      <td>No</td>\n",
       "    </tr>\n",
       "    <tr>\n",
       "      <td>9237-HQITU</td>\n",
       "      <td>Female</td>\n",
       "      <td>0</td>\n",
       "      <td>No</td>\n",
       "      <td>No</td>\n",
       "      <td>2</td>\n",
       "      <td>Yes</td>\n",
       "      <td>No</td>\n",
       "      <td>Fiber optic</td>\n",
       "      <td>No</td>\n",
       "      <td>No</td>\n",
       "      <td>No</td>\n",
       "      <td>No</td>\n",
       "      <td>No</td>\n",
       "      <td>No</td>\n",
       "      <td>Month-to-month</td>\n",
       "      <td>Yes</td>\n",
       "      <td>Electronic check</td>\n",
       "      <td>70.70</td>\n",
       "      <td>151.65</td>\n",
       "      <td>Yes</td>\n",
       "    </tr>\n",
       "  </tbody>\n",
       "</table>\n",
       "</div>"
      ],
      "text/plain": [
       "            gender  SeniorCitizen Partner Dependents  tenure PhoneService  \\\n",
       "customerID                                                                  \n",
       "7590-VHVEG  Female              0     Yes         No       1           No   \n",
       "5575-GNVDE    Male              0      No         No      34          Yes   \n",
       "3668-QPYBK    Male              0      No         No       2          Yes   \n",
       "7795-CFOCW    Male              0      No         No      45           No   \n",
       "9237-HQITU  Female              0      No         No       2          Yes   \n",
       "\n",
       "               MultipleLines InternetService OnlineSecurity OnlineBackup  \\\n",
       "customerID                                                                 \n",
       "7590-VHVEG  No phone service             DSL             No          Yes   \n",
       "5575-GNVDE                No             DSL            Yes           No   \n",
       "3668-QPYBK                No             DSL            Yes          Yes   \n",
       "7795-CFOCW  No phone service             DSL            Yes           No   \n",
       "9237-HQITU                No     Fiber optic             No           No   \n",
       "\n",
       "           DeviceProtection TechSupport StreamingTV StreamingMovies  \\\n",
       "customerID                                                            \n",
       "7590-VHVEG               No          No          No              No   \n",
       "5575-GNVDE              Yes          No          No              No   \n",
       "3668-QPYBK               No          No          No              No   \n",
       "7795-CFOCW              Yes         Yes          No              No   \n",
       "9237-HQITU               No          No          No              No   \n",
       "\n",
       "                  Contract PaperlessBilling              PaymentMethod  \\\n",
       "customerID                                                               \n",
       "7590-VHVEG  Month-to-month              Yes           Electronic check   \n",
       "5575-GNVDE        One year               No               Mailed check   \n",
       "3668-QPYBK  Month-to-month              Yes               Mailed check   \n",
       "7795-CFOCW        One year               No  Bank transfer (automatic)   \n",
       "9237-HQITU  Month-to-month              Yes           Electronic check   \n",
       "\n",
       "            MonthlyCharges TotalCharges Churn  \n",
       "customerID                                     \n",
       "7590-VHVEG           29.85        29.85    No  \n",
       "5575-GNVDE           56.95       1889.5    No  \n",
       "3668-QPYBK           53.85       108.15   Yes  \n",
       "7795-CFOCW           42.30      1840.75    No  \n",
       "9237-HQITU           70.70       151.65   Yes  "
      ]
     },
     "execution_count": 7,
     "metadata": {},
     "output_type": "execute_result"
    }
   ],
   "source": [
    "print(data.shape)\n",
    "data.head()"
   ]
  },
  {
   "cell_type": "markdown",
   "metadata": {},
   "source": [
    "The data seems pretty straightforward, wouldn't you agree? Let's jump in and talk retention!\n",
    "\n",
    "---\n",
    "\n",
    "## Retention\n",
    "\n",
    "### Kaplan Meier Curve - Survival Function\n",
    "\n",
    "The Kaplan-Meier estimator is a non-parametric statistic used to estimate the survival function from lifetime data. The Kaplan-Meier curve shows the probability of an event being true at a certain time interval - the probability of survival at a specific point in time. It is a good way to approximate the retention rate of a firm whose customers are in a **contractual** setting, such as Telco."
   ]
  },
  {
   "cell_type": "code",
   "execution_count": 8,
   "metadata": {},
   "outputs": [],
   "source": [
    "surv_mat = np.zeros(shape=(max(data.tenure)+1,6))\n",
    "surv_mat = pd.DataFrame(surv_mat, columns=['NumCustomers','NumChurned','NumCensored','NumRemaining','SurvivalRate','SurvivalFunc'])"
   ]
  },
  {
   "cell_type": "code",
   "execution_count": 9,
   "metadata": {},
   "outputs": [],
   "source": [
    "# Initialize first row at time 0\n",
    "surv_mat.iloc[0] = (data.shape[0],0,0,data.shape[0],1,1)"
   ]
  },
  {
   "cell_type": "code",
   "execution_count": 10,
   "metadata": {},
   "outputs": [],
   "source": [
    "# Calculate the number of customers that have churned and the number of customer that we censored for every time period\n",
    "ten = list(data.tenure)\n",
    "chu = list(data.Churn)\n",
    "chu2 = list(data.Churn)\n",
    "for t in range(len(surv_mat)):\n",
    "    for l in range(len(chu)):\n",
    "        if chu[l] == \"Yes\" and ten[l] == t:\n",
    "            chu[l] = t\n",
    "            surv_mat.at[t, 'NumChurned'] = chu.count(t)\n",
    "        elif chu[l] == \"No\" and ten[l] == t:\n",
    "            chu2[l] = t\n",
    "            surv_mat.at[t, 'NumCensored'] = chu2.count(t)\n",
    "        "
   ]
  },
  {
   "cell_type": "code",
   "execution_count": 11,
   "metadata": {},
   "outputs": [],
   "source": [
    "for t in range(1,len(surv_mat)):\n",
    "    #Calculate the Number of Customers at time t (index)\n",
    "    surv_mat.at[t, \"NumCustomers\"] = surv_mat.iloc[t-1,surv_mat.columns.get_loc(\"NumRemaining\")] - surv_mat.iloc[t,surv_mat.columns.get_loc(\"NumCensored\")]\n",
    "    \n",
    "    #Calculate the Number of Remaining Customers at time t\n",
    "    surv_mat.at[t, \"NumRemaining\"] = surv_mat.iloc[t,surv_mat.columns.get_loc(\"NumCustomers\")] - surv_mat.iloc[t,surv_mat.columns.get_loc(\"NumChurned\")]\n",
    "    \n",
    "    #Calculate survival rate for every time period\n",
    "    surv_mat.at[t, \"SurvivalRate\"] = surv_mat.iloc[t,surv_mat.columns.get_loc(\"NumRemaining\")] / surv_mat.iloc[t,surv_mat.columns.get_loc(\"NumCustomers\")]\n",
    "    \n",
    "    #Survival Function (cumulative survival)\n",
    "    surv_mat.at[t, \"SurvivalFunc\"] = surv_mat.iloc[t,surv_mat.columns.get_loc(\"SurvivalRate\")] * surv_mat.iloc[t-1,surv_mat.columns.get_loc(\"SurvivalFunc\")]\n",
    "    "
   ]
  },
  {
   "cell_type": "markdown",
   "metadata": {},
   "source": [
    "Great! We have now estimated the survival function. Let's see how it looks."
   ]
  },
  {
   "cell_type": "code",
   "execution_count": 12,
   "metadata": {},
   "outputs": [
    {
     "data": {
      "image/png": "[encoded data removed]",
      "text/plain": [
       "<Figure size 576x360 with 1 Axes>"
      ]
     },
     "metadata": {
      "needs_background": "light"
     },
     "output_type": "display_data"
    }
   ],
   "source": [
    "surv_mat['SurvivalFunc'].plot(figsize = (8,5))\n",
    "plt.ylim(0,1)\n",
    "plt.xlim(0,74)\n",
    "plt.xlabel(\"Periods (months)\")\n",
    "plt.ylabel(\"Survival Rate\")\n",
    "plt.title(\"Kaplan-Meier Curve\")\n",
    "plt.show()"
   ]
  },
  {
   "cell_type": "markdown",
   "metadata": {},
   "source": [
    "Awesome! Above we can see the Kaplan-Meier curve - the survival function. Like we explained previously, it shows the probability of a customer still being active with Telco over time. As expected, it decreases with tenure, with a higher significant decrease in the first several months and then eroding over time.\n",
    "\n",
    "**How can we approximate the retention rate using Kaplan Meier?** \n",
    "\n",
    "We will utilize an optimizer to minimize the sum of the absolute error between the actual retention at the end of every year and the expected retention, which, since we assumed that customers have a constant retention rate over time in our CLV function, we will equal the retention rate to the power of the year in question."
   ]
  },
  {
   "cell_type": "code",
   "execution_count": 13,
   "metadata": {},
   "outputs": [],
   "source": [
    "months = int(round(surv_mat.shape[0]/12,0))\n",
    "year_vals = np.zeros(shape=(months,4))\n",
    "for y in range(len(year_vals)):\n",
    "    year_vals[y,0] = y+1\n",
    "    year_vals[y,1] = surv_mat.SurvivalFunc[(y+1)*12]\n",
    "# We create an exception for the last year, and move the retention rate to the month prior to that year's completion\n",
    "year_vals[(months-1),1] = surv_mat.SurvivalFunc[((y+1)*12)-1]"
   ]
  },
  {
   "cell_type": "markdown",
   "metadata": {},
   "source": [
    "Now that we have created the matrix full of zeros and included the year number and the actual retained value, let's create the optimization function.\n",
    "\n",
    "To define a Solver-type (Excel) of problem in python, one must define a function which has the value that will be changed as the input of the function. In our case, that input is alpha, from which we will calculate the estimated constant retention. Once we have the estimated retention based on the alpha, we can calculate the absolute error per year and return the sum of all errors. The optimizer will deal with minimizing such error later on! For now, let's define the function!"
   ]
  },
  {
   "cell_type": "code",
   "execution_count": 14,
   "metadata": {},
   "outputs": [],
   "source": [
    "from scipy.optimize import minimize"
   ]
  },
  {
   "cell_type": "code",
   "execution_count": 15,
   "metadata": {},
   "outputs": [],
   "source": [
    "def absoluteSum(alpha):\n",
    "    #Loop through all the rows in the year_vals matrix\n",
    "    for y in range(len(year_vals)):\n",
    "        #Calculate the estimated retention based on the alpha inputed in the function\n",
    "        year_vals[y,2] = alpha**year_vals[y,0]\n",
    "        #Calculate the absolute error between the estimated and the actual retention\n",
    "        year_vals[y,3] = abs(year_vals[y,2] - year_vals[y,1])\n",
    "    # Return the sum of the absolute errors    \n",
    "    abserrors = sum(year_vals[:,3])\n",
    "    return abserrors"
   ]
  },
  {
   "cell_type": "markdown",
   "metadata": {},
   "source": [
    "Great! One minor thing. We have to define the bounds for our input (alpha). It has to be greater than 0 and less than 1. We will also initialize the alpha value for the optimization function. We simply put 0.5 and called it aleph, but you can define it as whatever number you please!"
   ]
  },
  {
   "cell_type": "code",
   "execution_count": 16,
   "metadata": {},
   "outputs": [],
   "source": [
    "#Define bounds for out input and \n",
    "bound = [(0,1)]\n",
    "aleph = 0.5"
   ]
  },
  {
   "cell_type": "markdown",
   "metadata": {},
   "source": [
    "Awesomesauce! Let's try out the optimization function, minimum. We input the objective function first, then the initial value for the value(s) to be changed - our alpha -, the optimization method, and the bounds for the input."
   ]
  },
  {
   "cell_type": "code",
   "execution_count": 17,
   "metadata": {},
   "outputs": [
    {
     "name": "stdout",
     "output_type": "stream",
     "text": [
      "Our alpha equals: 91.6%\n"
     ]
    }
   ],
   "source": [
    "res = minimize(absoluteSum,aleph,method='SLSQP',bounds=bound)\n",
    "print(f\"Our alpha equals: {round(res.x[0]*100,2)}%\")"
   ]
  },
  {
   "cell_type": "markdown",
   "metadata": {},
   "source": [
    "Wow! 91.6% is a pretty good retention rate. What this means is that every year, we should expect the beginning customer base to decrease by 8.4%. Let's exemplify this.\n",
    "\n",
    "Assume Telco has a profit margin of 17%, as <a href=\"https://www.investopedia.com/ask/answers/060215/what-average-profit-margin-company-telecommunications-sector.asp\">Investopedia</a> says about the Telecommunication industry. Let's also assume no growth and a discount rate of 5%. What would our margin multiplier be? CLV?"
   ]
  },
  {
   "cell_type": "code",
   "execution_count": 18,
   "metadata": {},
   "outputs": [
    {
     "name": "stdout",
     "output_type": "stream",
     "text": [
      "The margin multiplier is: 6.834\n",
      "The mean annualized revenue per customer is: $777.14\n",
      "The Customer Lifetime Value is: $902.87\n"
     ]
    }
   ],
   "source": [
    "marg = margin_multiplier(res.x[0], 0.05)\n",
    "#Calculate mean monthly revenue per customer and annualize it\n",
    "meanRev = data.MonthlyCharges.mean()*12\n",
    "margProf = meanRev * 0.17\n",
    "#Calculate the CLV\n",
    "clv = clvCalc(margProf,marg)\n",
    "\n",
    "print(f\"The margin multiplier is: {round(marg,4)}\")\n",
    "print(f\"The mean annualized revenue per customer is: ${round(meanRev,2)}\")\n",
    "print(f\"The Customer Lifetime Value is: ${round(clv,2)}\")"
   ]
  },
  {
   "cell_type": "markdown",
   "metadata": {},
   "source": [
    "What if we could create an incentive program that increases retention by 5%, such as a loyalty/reward program. What would happen to our margin multiplier and CLV under the same assumptions?"
   ]
  },
  {
   "cell_type": "code",
   "execution_count": 19,
   "metadata": {},
   "outputs": [
    {
     "name": "stdout",
     "output_type": "stream",
     "text": [
      "The margin multiplier is: 11.4954\n",
      "The mean annualized revenue per customer is: $777.14\n",
      "The Customer Lifetime Value is: $1518.71\n"
     ]
    }
   ],
   "source": [
    "marg = margin_multiplier(res.x[0]+0.05, 0.05)\n",
    "#Calculate mean monthly revenue per customer and annualize it\n",
    "meanRev = data.MonthlyCharges.mean()*12\n",
    "margProf = meanRev * 0.17\n",
    "#Calculate the CLV\n",
    "clv = clvCalc(margProf,marg)\n",
    "\n",
    "print(f\"The margin multiplier is: {round(marg,4)}\")\n",
    "print(f\"The mean annualized revenue per customer is: ${round(meanRev,2)}\")\n",
    "print(f\"The Customer Lifetime Value is: ${round(clv,2)}\")"
   ]
  },
  {
   "cell_type": "markdown",
   "metadata": {},
   "source": [
    "Incredible! Our margin multiplier and CLV almost doubled... and that's just with a 5% increase in retention! \n",
    "The importance of rentention has never been so obvious.\n",
    "\n",
    "\n",
    "---\n",
    "\n",
    "### BG/NBD\n",
    "The above data had one benefit that is not common in all businesses: it was contractual data. This entails that we know whether a customer has churned and therefore can calculate or at least estimate their tenure. The benefits of such data are obvious. However, since this is not always the case, we are going to look at a model that uses non-contractual data: BG/NBD Model - a derivation of the Pareto/NBD model which has been proven to be hard to implement. This model only needs:\n",
    "1. The number of transactions a customer has made **after** their first transaction.\n",
    "2. The time of a customer's last purchase.\n",
    "3. How long the customer been tracked for. \n",
    "\n",
    "One of the key differences between the Pareto/NBD and the BG/NBD model is based on the story being told about how and when customers become inactive. The Pareto timing model assumes that customer churn can occur at any point in time, independetly of the occurrence of actual purchases. However, the BG/NBD model assumes that churn can only occur immediately after a purchase, hence, we can model the timing model as a betageometric model. \n",
    "\n",
    "In the next section, we explain the model in a semi-mathematical and conceptual way. However, there is a small section thereafter called the _Technical Summary_ that briefly goes over the functions used in this model. Remember, you can access the <a href=\"http://brucehardie.com/papers/018/fader_et_al_mksc_05.pdf\">original article</a>. If you are not interested in this model for estimating retention, feel free to skip to the next section: Customer Acquisition.\n",
    "\n",
    "Note that in an industry or company where active buyers are either uncommon or very slow in making their purchases, the BG/NBD model will not perform well compared to the Pareto/NBD.\n",
    "\n",
    "**Conceptual Summary**\n",
    "\n",
    "The BG/NBD model quantifies the lifetime value of a customer by assessing the expected number of transactions s/he will have in the future as long as s/he has not churned. For any given customer there are two options: (1) the customer purchases or does not purchase again, and (2) the customer churns or does not churn. These two options are probabilisitic, meaning that there is a probability associated with the customer pruchasing at a given period and a different probability of a customer churning after a purchase. \n",
    "\n",
    "The model assumes the following:\n",
    "1. Until a customer churns, the number of transactions made by a customer follows a <a href=\"https://ocw.mit.edu/courses/electrical-engineering-and-computer-science/6-262-discrete-stochastic-processes-spring-2011/course-notes/MIT6_262S11_chap02.pdf\">Poisson process</a> - a simple and widely used stochastic process for modeling the times at which arrivals enter a system. \n",
    "    \n",
    "    So at every period (week) in a defined time interval (one year = 52 weeks), the customer decides whether to pruchase or not. The number of purchases a customer makes is dependent on each customer's probability distribution around lambda, the arrival rate.\n",
    "   "
   ]
  },
  {
   "cell_type": "code",
   "execution_count": 20,
   "metadata": {},
   "outputs": [
    {
     "data": {
      "image/png": "[encoded data removed]",
      "text/plain": [
       "<Figure size 720x576 with 1 Axes>"
      ]
     },
     "metadata": {
      "needs_background": "light"
     },
     "output_type": "display_data"
    }
   ],
   "source": [
    "from scipy.stats import poisson, expon, nbinom, gamma\n",
    "\n",
    "lmbdas = [2,4,6,8,10,12,14,16]\n",
    "complete = []\n",
    "for l in lmbdas:\n",
    "    plot1 = []\n",
    "    for t in range(0,35):\n",
    "        plot1.append(poisson(l).pmf(t))\n",
    "    complete.append(plot1) \n",
    "complete = pd.DataFrame(complete, index=[2,4,6,8,10,12,14,16]).T\n",
    "complete.plot(figsize=(10,8))\n",
    "plt.title(\"Poisson Probability Mass Function\")\n",
    "plt.xlabel(\"Number of Transactions\")\n",
    "plt.ylabel(\"Probability\")\n",
    "plt.legend([2,4,6,8,10,12,14,16], title=\"lambda values\")\n",
    "plt.show()"
   ]
  },
  {
   "cell_type": "markdown",
   "metadata": {},
   "source": [
    "This graph simply shows the probability associated with the number of transactions of a customer given different arrival rates - lambdas. Makes sense, yes?\n",
    "\n",
    "2. The probability that a customer will purchase follows a Gamma distribution. Similarly, it is the time (the wait time) until the customer purchases again. Therefore, since the number of transaction (from 1) is dependent on the probability of purchase at any given point, we will simulate a Poisson distribution where the rate of arrival (rate of purchasing) - lambda -, is modeled with a Gamma distribution. \n",
    "    \n",
    "    Note that there is no general concensus as to what the scale parameter should be. This becomes part of the modeling section. In the display, we assume a shape of 5 and a scale of 1."
   ]
  },
  {
   "cell_type": "code",
   "execution_count": 21,
   "metadata": {},
   "outputs": [
    {
     "data": {
      "image/png": "[encoded data removed]",
      "text/plain": [
       "<Figure size 432x288 with 1 Axes>"
      ]
     },
     "metadata": {
      "needs_background": "light"
     },
     "output_type": "display_data"
    }
   ],
   "source": [
    "shap = 5\n",
    "scal = 1\n",
    "\n",
    "#simulate over 100 customers\n",
    "for c in range(100):\n",
    "    pprocess = poisson(np.random.gamma(shape=shap, scale=scal))\n",
    "    complete = []\n",
    "    for t in range(30):\n",
    "        complete.append(pprocess.pmf(t))\n",
    "    plt.plot(complete)\n",
    "    plt.xlabel(\"Number of Transactions\")\n",
    "    plt.ylabel(\"Probability\")"
   ]
  },
  {
   "cell_type": "markdown",
   "metadata": {},
   "source": [
    "3. There is a probability, p, that a customer becomes innactive after any transaction. This dropout rate is distributed across transactions based on a shifted Geometric distribution. In simple terms, the distribution explains that the higher the amount of transactions a customer makes, the higher the probability of being active - ie not churned.\n",
    "\n",
    "\n",
    "4. Heterogeneity in the probability of churning follows a Beta distribution. In other words, each customer has a different probability of having churned after a specific amount of transactions.\n",
    "\n",
    "\n",
    "5. Lambda and the churn probability, p, are independent across customers.\n",
    "\n",
    "    \n",
    "If you want to understand the model deeply, check out the <a href=\"http://brucehardie.com/papers/018/fader_et_al_mksc_05.pdf\">original article</a>.\n",
    "\n",
    "---\n",
    "    \n",
    "**BG/NBD Modeling**\n",
    "\n",
    "Let's get the model implemented! Recall this model only needs:\n",
    "1. The number of transactions a customer has made **after** their first transaction.\n",
    "2. The time of a customer's last purchase.\n",
    "3. How long has the customer been tracked for. \n",
    "\n",
    "Since our Telco data does not fit, we will use sample data from the _lifetime_ library. **However**, we assume that is a Telco dataset since we are going to go through the BG/NBD model using a use case.\n",
    "\n",
    "##### Case: Telco - Teckie Case\n",
    "\n",
    "As a large corporation, Telco has multiple services and products. One of their lines of products is online movie rentals - Telco Video. A customer can log in into Telco Video and rent any movie in the platform for only $3 for a span of 48hrs.\n",
    "\n",
    "Nine months ago, Telco Video started advertising their services on Teckie's website - a company with 50 million frequent online customers. Everything seems to be going great, but executives at Telco Video do not know whether the deal was worth it or not. Now, Teckie has offered Telco Video to extend the advertising deal for a full year on their site. This promotional deal costs $2.3 million. Should Telco take this deal?\n",
    "\n",
    "We assume that the average purchase rate is $3 (weekly) - 1 movie a week, and that Telco's profit margin is %17. Let's also assume that, based on an analysis done on Teckie's data, 80% of subscribers see the ads, and that 3% of the ad viewers become Telco customers.  \n",
    "\n",
    "To answer the question of whether Telco Video should take the deal, we need to quantify the expected returns from the deal and see if these outweight the costs.\n",
    "\n",
    "Using the data from the first 9 months (39 weeks), we will create a BG/NBD model and predict the net present value of revenue for all customers, ultimately determining the value of the deal and helping Telco Video executives make a decision."
   ]
  },
  {
   "cell_type": "code",
   "execution_count": 22,
   "metadata": {},
   "outputs": [
    {
     "data": {
      "text/html": [
       "<div>\n",
       "<style scoped>\n",
       "    .dataframe tbody tr th:only-of-type {\n",
       "        vertical-align: middle;\n",
       "    }\n",
       "\n",
       "    .dataframe tbody tr th {\n",
       "        vertical-align: top;\n",
       "    }\n",
       "\n",
       "    .dataframe thead th {\n",
       "        text-align: right;\n",
       "    }\n",
       "</style>\n",
       "<table border=\"1\" class=\"dataframe\">\n",
       "  <thead>\n",
       "    <tr style=\"text-align: right;\">\n",
       "      <th></th>\n",
       "      <th>Transactions</th>\n",
       "      <th>LastPurchase</th>\n",
       "      <th>Tracked</th>\n",
       "    </tr>\n",
       "    <tr>\n",
       "      <th>ID</th>\n",
       "      <th></th>\n",
       "      <th></th>\n",
       "      <th></th>\n",
       "    </tr>\n",
       "  </thead>\n",
       "  <tbody>\n",
       "    <tr>\n",
       "      <td>1</td>\n",
       "      <td>2</td>\n",
       "      <td>30.43</td>\n",
       "      <td>38.86</td>\n",
       "    </tr>\n",
       "    <tr>\n",
       "      <td>2</td>\n",
       "      <td>1</td>\n",
       "      <td>1.71</td>\n",
       "      <td>38.86</td>\n",
       "    </tr>\n",
       "    <tr>\n",
       "      <td>3</td>\n",
       "      <td>0</td>\n",
       "      <td>0.00</td>\n",
       "      <td>38.86</td>\n",
       "    </tr>\n",
       "    <tr>\n",
       "      <td>4</td>\n",
       "      <td>0</td>\n",
       "      <td>0.00</td>\n",
       "      <td>38.86</td>\n",
       "    </tr>\n",
       "    <tr>\n",
       "      <td>5</td>\n",
       "      <td>0</td>\n",
       "      <td>0.00</td>\n",
       "      <td>38.86</td>\n",
       "    </tr>\n",
       "  </tbody>\n",
       "</table>\n",
       "</div>"
      ],
      "text/plain": [
       "    Transactions  LastPurchase  Tracked\n",
       "ID                                     \n",
       "1              2         30.43    38.86\n",
       "2              1          1.71    38.86\n",
       "3              0          0.00    38.86\n",
       "4              0          0.00    38.86\n",
       "5              0          0.00    38.86"
      ]
     },
     "execution_count": 22,
     "metadata": {},
     "output_type": "execute_result"
    }
   ],
   "source": [
    "from lifetimes.datasets import load_cdnow_summary\n",
    "LastPurchase = load_cdnow_summary(index_col=[0])\n",
    "LastPurchase.columns = [\"Transactions\",\"LastPurchase\",\"Tracked\"]\n",
    "LastPurchase.head()"
   ]
  },
  {
   "cell_type": "markdown",
   "metadata": {},
   "source": [
    "Every row of the data represents a customer. Each customer, has the number of transactions done after first purchase (Transactions), the time of last purchase (LastPurchase) and the amount of time said customer has been tracked for (Tracked).\n",
    "\n",
    "Next, we import and fit the model. This will tell us the optimal parameters for fitting the beta and geometric distributions. Subsequently, we will calculate the probability of a customer not having churned (being alive) and the expected number of transactions s/he will generate in the upcoming year (52 weeks)."
   ]
  },
  {
   "cell_type": "code",
   "execution_count": 23,
   "metadata": {},
   "outputs": [
    {
     "data": {
      "text/html": [
       "<div>\n",
       "<style scoped>\n",
       "    .dataframe tbody tr th:only-of-type {\n",
       "        vertical-align: middle;\n",
       "    }\n",
       "\n",
       "    .dataframe tbody tr th {\n",
       "        vertical-align: top;\n",
       "    }\n",
       "\n",
       "    .dataframe thead th {\n",
       "        text-align: right;\n",
       "    }\n",
       "</style>\n",
       "<table border=\"1\" class=\"dataframe\">\n",
       "  <thead>\n",
       "    <tr style=\"text-align: right;\">\n",
       "      <th></th>\n",
       "      <th>coef</th>\n",
       "      <th>se(coef)</th>\n",
       "      <th>lower 95% bound</th>\n",
       "      <th>upper 95% bound</th>\n",
       "    </tr>\n",
       "  </thead>\n",
       "  <tbody>\n",
       "    <tr>\n",
       "      <td>r</td>\n",
       "      <td>0.242593</td>\n",
       "      <td>0.012557</td>\n",
       "      <td>0.217981</td>\n",
       "      <td>0.267205</td>\n",
       "    </tr>\n",
       "    <tr>\n",
       "      <td>alpha</td>\n",
       "      <td>4.413532</td>\n",
       "      <td>0.378221</td>\n",
       "      <td>3.672218</td>\n",
       "      <td>5.154846</td>\n",
       "    </tr>\n",
       "    <tr>\n",
       "      <td>a</td>\n",
       "      <td>0.792886</td>\n",
       "      <td>0.185719</td>\n",
       "      <td>0.428877</td>\n",
       "      <td>1.156895</td>\n",
       "    </tr>\n",
       "    <tr>\n",
       "      <td>b</td>\n",
       "      <td>2.425752</td>\n",
       "      <td>0.705345</td>\n",
       "      <td>1.043276</td>\n",
       "      <td>3.808229</td>\n",
       "    </tr>\n",
       "  </tbody>\n",
       "</table>\n",
       "</div>"
      ],
      "text/plain": [
       "           coef  se(coef)  lower 95% bound  upper 95% bound\n",
       "r      0.242593  0.012557         0.217981         0.267205\n",
       "alpha  4.413532  0.378221         3.672218         5.154846\n",
       "a      0.792886  0.185719         0.428877         1.156895\n",
       "b      2.425752  0.705345         1.043276         3.808229"
      ]
     },
     "execution_count": 23,
     "metadata": {},
     "output_type": "execute_result"
    }
   ],
   "source": [
    "from lifetimes import BetaGeoFitter\n",
    "from lifetimes.plotting import plot_period_transactions, plot_frequency_recency_matrix, plot_probability_alive_matrix, plot_history_alive\n",
    "\n",
    "bgModel = BetaGeoFitter()\n",
    "bgModel.fit(LastPurchase['Transactions'], LastPurchase['LastPurchase'], LastPurchase['Tracked'])\n",
    "\n",
    "bgModel.summary"
   ]
  },
  {
   "cell_type": "code",
   "execution_count": 24,
   "metadata": {},
   "outputs": [
    {
     "data": {
      "text/plain": [
       "<matplotlib.axes._subplots.AxesSubplot at 0x11ac0badd08>"
      ]
     },
     "execution_count": 24,
     "metadata": {},
     "output_type": "execute_result"
    },
    {
     "data": {
      "image/png": "[encoded data removed]",
      "text/plain": [
       "<Figure size 432x288 with 1 Axes>"
      ]
     },
     "metadata": {
      "needs_background": "light"
     },
     "output_type": "display_data"
    }
   ],
   "source": [
    "plot_period_transactions(bgModel)"
   ]
  },
  {
   "cell_type": "markdown",
   "metadata": {},
   "source": [
    "    The differences between actual and predicted repeat transactions are marginal for each period, indicating a good fit of the model.\n",
    "\n",
    "Phenomenal! Now that we have fitted our distributions based on our data, we can take a look at E[Y(t)] and Prob(Active). That is, the expected number of transactions a customer will do over a year, and the probability that the customer is still alive right now (week 39). Check out the Technical Summary at the end of this section to see the mathematical formulas relevant to this model, or check out the original paper!"
   ]
  },
  {
   "cell_type": "code",
   "execution_count": 25,
   "metadata": {},
   "outputs": [],
   "source": [
    "def bgnbd_expectations(x, t_x, T, t):\n",
    "    r, alpha, a, b = bgModel.summary.iloc[:,0]\n",
    "    aa = r+x\n",
    "    bb = b+x\n",
    "    cc = a+b+x-1\n",
    "    z = t/(t+alpha+T)\n",
    "    terms = np.zeros(shape=(151))\n",
    "    terms[0]=1\n",
    "    for i in range(1,len(terms)):\n",
    "        terms[i] = terms[i-1]*(aa+i-1)*(bb+i-1)/((cc+i-1)*i)*z\n",
    "    f2_1 = sum(terms)\n",
    "    if x > 0:\n",
    "        rpos = 1\n",
    "    else:\n",
    "        rpos = 0\n",
    "        \n",
    "    eyt = ((a+b+x-1)/(a-1))*(1-(((alpha+T)/(alpha+T+t))**(r+x))*f2_1)/(1+(rpos*(a/(b+x-1)))*((alpha+T)/(alpha+t_x))**(r+x))\n",
    "    \n",
    "    prob = 1/(1+(rpos*(a/(b+x-1))*((alpha+T)/(alpha+t_x))**(r+x)))\n",
    "    return eyt, prob"
   ]
  },
  {
   "cell_type": "code",
   "execution_count": 26,
   "metadata": {},
   "outputs": [
    {
     "data": {
      "text/html": [
       "<div>\n",
       "<style scoped>\n",
       "    .dataframe tbody tr th:only-of-type {\n",
       "        vertical-align: middle;\n",
       "    }\n",
       "\n",
       "    .dataframe tbody tr th {\n",
       "        vertical-align: top;\n",
       "    }\n",
       "\n",
       "    .dataframe thead th {\n",
       "        text-align: right;\n",
       "    }\n",
       "</style>\n",
       "<table border=\"1\" class=\"dataframe\">\n",
       "  <thead>\n",
       "    <tr style=\"text-align: right;\">\n",
       "      <th></th>\n",
       "      <th>Transactions</th>\n",
       "      <th>LastPurchase</th>\n",
       "      <th>Tracked</th>\n",
       "      <th>ProbabilityAlive</th>\n",
       "      <th>ExpectedTransactions</th>\n",
       "    </tr>\n",
       "    <tr>\n",
       "      <th>ID</th>\n",
       "      <th></th>\n",
       "      <th></th>\n",
       "      <th></th>\n",
       "      <th></th>\n",
       "      <th></th>\n",
       "    </tr>\n",
       "  </thead>\n",
       "  <tbody>\n",
       "    <tr>\n",
       "      <td>1</td>\n",
       "      <td>2</td>\n",
       "      <td>30.43</td>\n",
       "      <td>38.86</td>\n",
       "      <td>0.726609</td>\n",
       "      <td>1.558584</td>\n",
       "    </tr>\n",
       "    <tr>\n",
       "      <td>2</td>\n",
       "      <td>1</td>\n",
       "      <td>1.71</td>\n",
       "      <td>38.86</td>\n",
       "      <td>0.212227</td>\n",
       "      <td>0.259907</td>\n",
       "    </tr>\n",
       "    <tr>\n",
       "      <td>3</td>\n",
       "      <td>0</td>\n",
       "      <td>0.00</td>\n",
       "      <td>38.86</td>\n",
       "      <td>1.000000</td>\n",
       "      <td>0.251666</td>\n",
       "    </tr>\n",
       "    <tr>\n",
       "      <td>4</td>\n",
       "      <td>0</td>\n",
       "      <td>0.00</td>\n",
       "      <td>38.86</td>\n",
       "      <td>1.000000</td>\n",
       "      <td>0.251666</td>\n",
       "    </tr>\n",
       "    <tr>\n",
       "      <td>5</td>\n",
       "      <td>0</td>\n",
       "      <td>0.00</td>\n",
       "      <td>38.86</td>\n",
       "      <td>1.000000</td>\n",
       "      <td>0.251666</td>\n",
       "    </tr>\n",
       "  </tbody>\n",
       "</table>\n",
       "</div>"
      ],
      "text/plain": [
       "    Transactions  LastPurchase  Tracked  ProbabilityAlive  \\\n",
       "ID                                                          \n",
       "1              2         30.43    38.86          0.726609   \n",
       "2              1          1.71    38.86          0.212227   \n",
       "3              0          0.00    38.86          1.000000   \n",
       "4              0          0.00    38.86          1.000000   \n",
       "5              0          0.00    38.86          1.000000   \n",
       "\n",
       "    ExpectedTransactions  \n",
       "ID                        \n",
       "1               1.558584  \n",
       "2               0.259907  \n",
       "3               0.251666  \n",
       "4               0.251666  \n",
       "5               0.251666  "
      ]
     },
     "execution_count": 26,
     "metadata": {},
     "output_type": "execute_result"
    }
   ],
   "source": [
    "alive = []\n",
    "nextyear = []\n",
    "for i, row in LastPurchase.iterrows():\n",
    "    ex, proAl = bgnbd_expectations(row.Transactions, row.LastPurchase, row.Tracked, 52) #52 weeks in a year\n",
    "    alive.append(proAl)\n",
    "    nextyear.append(ex)\n",
    "LastPurchase['ProbabilityAlive'] = alive\n",
    "LastPurchase['ExpectedTransactions'] = nextyear\n",
    "LastPurchase.head()"
   ]
  },
  {
   "cell_type": "markdown",
   "metadata": {},
   "source": [
    "Now, we can leverage the BG/NBD model and estimate the net present value of the revenue generated from the deal and compare it to the cost. Note that by definition, when the number of repeat transactions is zero, there is a 100% probability the customer is alive. This has to do with our assumptions to fit a BetaGeometric process instead of a Pareto process. Therefore, we will use a subset of data that only includes repeat customers - acquired customers - to estimate the NPV of Revenue, which is:\n",
    "\n",
    "<img src=\"https://i.ibb.co/F521VBB/npvfunc.png\" alt=\"npvfunc\" border=\"0\">\n"
   ]
  },
  {
   "cell_type": "code",
   "execution_count": 27,
   "metadata": {},
   "outputs": [],
   "source": [
    "activity = LastPurchase[LastPurchase['Transactions']>0]"
   ]
  },
  {
   "cell_type": "code",
   "execution_count": 28,
   "metadata": {},
   "outputs": [],
   "source": [
    "purchase = 3\n",
    "grossMargin = .17\n",
    "d = 0.03\n",
    "activity['NPVRevenue'] = activity.apply(lambda activity: activity['ExpectedTransactions']*purchase*grossMargin*(activity['ProbabilityAlive']/(1+d-activity['ProbabilityAlive'])), axis=1)"
   ]
  },
  {
   "cell_type": "code",
   "execution_count": 29,
   "metadata": {},
   "outputs": [
    {
     "name": "stdout",
     "output_type": "stream",
     "text": [
      "Total number of new customers: 800000.0\n",
      "NPV Revenue from ad transforms $2.89M\n",
      "Cost of Deal: $2.3M\n",
      "Net Value of Deal: $0.59M\n",
      "Return on Investment: 25.65%\n",
      "Median Retention 58.29%\n",
      "Median transactions in first year: 2.0\n"
     ]
    }
   ],
   "source": [
    "# If Teckie has 100 million customers and 90% see adds \n",
    "# and only 3% of those who saw the ads are transformed into Telco's customers...\n",
    "newCustomers = 50000000*0.8*0.02\n",
    "\n",
    "# Total expected NPV adjusted for this promotional deal:\n",
    "totalNPV = activity.NPVRevenue.sum()*(newCustomers/len(activity))\n",
    "costDeal = 2.3 #Millions\n",
    "\n",
    "print(f\"Total number of new customers: {newCustomers}\")\n",
    "print(f\"NPV Revenue from ad transforms ${round(totalNPV/1000000,2)}M\")\n",
    "print(f\"Cost of Deal: ${costDeal}M\")\n",
    "print(f\"Net Value of Deal: ${round(round(totalNPV/1000000,2)-costDeal,2)}M\")\n",
    "print(f\"Return on Investment: {round((round(totalNPV/1000000,2)-costDeal)*100/costDeal,2)}%\")\n",
    "print(f\"Median Retention {round(activity.ProbabilityAlive.median()*100,2)}%\")\n",
    "print(f\"Median transactions in first year: {activity.Transactions.median()}\")"
   ]
  },
  {
   "cell_type": "markdown",
   "metadata": {},
   "source": [
    "So, should Telco Video take the deal? \n",
    "\n",
    "Absolutely! Based on our analysis on the newly acquired customers, we should expect:\n",
    "* Returns of $2.89 million over the next year. \n",
    "\n",
    "* Profit of $590,000 \n",
    "* Return of Investment of 25.65%.\n",
    "\n",
    "___\n",
    "\n",
    "For educational purposes, let's visualize how BG/NBD models behavior over time, and how predictions may vary accordingly. \n",
    "\n",
    "Say that Telco Video have two customers, Customer1 and Customer2, with different purchasing habits. Customer2 buys more often while Customer1 has more recent transactions with the firm. We are currently in week 40.\n",
    "\n",
    "Let's generate values for this hypothetical customers and model their retention and expected transaction curves."
   ]
  },
  {
   "cell_type": "code",
   "execution_count": 30,
   "metadata": {},
   "outputs": [],
   "source": [
    "cust1 = {\"day\":[27,34]}\n",
    "cust2 = {\"day\":[4,6,8,10,12,15,17,19,27]}\n",
    "cust1 = pd.DataFrame(cust1)\n",
    "cust2 = pd.DataFrame(cust2)"
   ]
  },
  {
   "cell_type": "code",
   "execution_count": 31,
   "metadata": {},
   "outputs": [
    {
     "data": {
      "text/plain": [
       "Text(0, 0.5, 'Expected Transactions')"
      ]
     },
     "execution_count": 31,
     "metadata": {},
     "output_type": "execute_result"
    },
    {
     "data": {
      "image/png": "[encoded data removed]",
      "text/plain": [
       "<Figure size 504x360 with 1 Axes>"
      ]
     },
     "metadata": {
      "needs_background": "light"
     },
     "output_type": "display_data"
    },
    {
     "data": {
      "image/png": "[encoded data removed]",
      "text/plain": [
       "<Figure size 504x360 with 1 Axes>"
      ]
     },
     "metadata": {
      "needs_background": "light"
     },
     "output_type": "display_data"
    }
   ],
   "source": [
    "lastday1 = 0\n",
    "ntrans1 = 1\n",
    "probable1 = []\n",
    "lastday2 = 0\n",
    "ntrans2 = 1\n",
    "probable2 = []\n",
    "expyear1 = []\n",
    "expyear2 = []\n",
    "\n",
    "for time in range(0,104):\n",
    "    if time in cust1.day.values:\n",
    "        lastday1 = time\n",
    "        ntrans1 += 1\n",
    "    if time in cust2.day.values:\n",
    "        lastday2 = time\n",
    "        ntrans2 += 1\n",
    "    ex1, pr1 = bgnbd_expectations(ntrans1,lastday1,time,104)\n",
    "    \n",
    "    probable1.append(pr1)\n",
    "    expyear1.append(ex1)\n",
    "    \n",
    "    ex2, pr2 = bgnbd_expectations(ntrans2,lastday2,time,104)\n",
    "    \n",
    "    probable2.append(pr2)\n",
    "    expyear2.append(ex2)\n",
    "    \n",
    "    \n",
    "newdict = {\"Customer1\":probable1,\"Customer2\":probable2}\n",
    "newdf = pd.DataFrame(newdict)\n",
    "newdf.plot(figsize=(7,5))\n",
    "for b in cust1.day.values:\n",
    "    plt.axvline(x=b, linewidth=0.8, linestyle = '--')\n",
    "for o in cust2.day.values:\n",
    "    plt.axvline(x=o, linewidth=0.8, linestyle = '--', color='tab:orange')   \n",
    "plt.axvline(x=40, linestyle='--',color='r')\n",
    "plt.title(\"Probability Alive\")\n",
    "plt.xlabel(\"Weeks\")\n",
    "plt.ylabel(\"Probability\")\n",
    "\n",
    "expdict = {\"Customer1\":expyear1,\"Customer2\":expyear2}\n",
    "expdf = pd.DataFrame(expdict)\n",
    "expdf.plot(figsize=(7,5))\n",
    "for b in cust1.day.values:\n",
    "    plt.axvline(x=b, linewidth=0.8, linestyle = '--')\n",
    "for o in cust2.day.values:\n",
    "    plt.axvline(x=o, linewidth=0.8, linestyle = '--', color='tab:orange')  \n",
    "plt.axvline(x=40, linestyle='--',color='r')\n",
    "plt.title(\"Expected Transactions in the Next 2 Years\")\n",
    "plt.xlabel(\"Weeks\")\n",
    "plt.ylabel(\"Expected Transactions\")"
   ]
  },
  {
   "cell_type": "markdown",
   "metadata": {},
   "source": [
    "While Customer2 was more active in the past, his innactivity for 13 weeks has drastically decreased our probability of him/her being alive as of Week40 (RED) - that is, the probability that he has not churned. Instead, Customer1 has a much higher probability of being alive than Customer2 due to the recency of transactions and the fitted behavioral purchasing patterns which are slow. "
   ]
  },
  {
   "cell_type": "markdown",
   "metadata": {},
   "source": [
    "For more examples and derivations of the use of the BG/NBD model, take a look at these posts:\n",
    "1. <a href=\"https://towardsdatascience.com/predicting-customer-lifetime-value-with-buy-til-you-die-probabilistic-models-in-python-f5cac78758d9\">Predicting Customer Lifetime Value with “Buy ‘Til You Die” probabilistic models in Python</a> - comprehensive BG/NBD model explenation.\n",
    "2. <a href=\"https://medium.com/liv-up-inside-the-kitchen/looking-at-retention-lifetime-value-with-data-science-1fc884e6a4ad\">Looking at retention & lifetime value with data science</a>\n",
    "\n",
    "Take a look at the Technical Summary if you want to see the mathematical formulas relevant to the modeling of the BG/NBD model.\n",
    "\n",
    "\n",
    "**Technical Summary**\n",
    "\n",
    "1. The number of transactions made by a customers follows a Poisson process with trasaction rate lambda.\n",
    "    This is the same as exponentially distributed  time between trasactions \n",
    "<img src=\"https://i.ibb.co/1KHp2kF/1-Poisson-Process.png\" alt=\"1-Poisson-Process\" border=\"0\">\n",
    "\n",
    "\n",
    "2. Heterogenerity (\"distribution\") in lambda follows a gamma distribution with PDF:\n",
    "<img src=\"https://i.ibb.co/n7RXPpd/2-Gamma-Dist.png\" alt=\"2-Gamma-Dist\" border=\"0\">\n",
    "\n",
    "\n",
    "3. After a transaction, a customer can become innactive. The probability of that occuring is denoted by the letter p. Therefore, the point at which the customer \"drops out\" is distributed across transactions according to a (shifted) geometric distribution with PMF:\n",
    "<img src=\"https://i.ibb.co/C6qLck8/3-PINactive.png\" alt=\"3-PINactive\" border=\"0\">\n",
    "\n",
    "\n",
    "4. Heterogeneity (\"distribution\"/variation) in p follows a Beta distribution with PDF:\n",
    "<img src=\"https://i.ibb.co/wsJ2vgb/4-Beta-Dist.png\" alt=\"4-Beta-Dist\" border=\"0\">\n",
    "    The transaction rate lambda and the dropout probability p vary independently accross customers.\n",
    "    \n",
    "    \n",
    "5. Therefore, the expected number of transactions in a time period t is:\n",
    "<img src=\"https://i.ibb.co/sgKYK29/5-Expeted-Transactions.png\" alt=\"5-Expeted-Transactions\" border=\"0\">\n",
    "    This is central to computing the expected transaction volume over time\n",
    "\n",
    "\n",
    "6. And the expected number of transactions of an individual with certain characteristics during the specified time period is:\n",
    "<img src=\"https://i.ibb.co/yNPKFfy/6-Expected-Volume.png\" alt=\"6-Expected-Volume\" border=\"0\">\n",
    "    In other words, how much is an individual going to purchase in the future?\n",
    "\n",
    "___\n",
    "\n",
    "### What did we learn in this section?\n",
    "\n",
    "* We learned about customer retention and how effective and important it is to the profitability of a company. \n",
    "\n",
    "* We learned how to use the Kaplan-Meier model in a contractual setting to estimate the CLV, and we learned how to create an BG/NBD model for a non-contractual business setting, and get the expected transactions and probability of retention for every customer based on their past behavior. \n",
    "\n",
    "* We saw some examples of how these models can be used to drive decisions and help businesses allocate resources, catalyze growth, and help executives quantify proposals.\n",
    "\n",
    "* Next, we will go into customer acquisition, another critical part of our CRM framework!\n",
    "\n",
    "__________\n"
   ]
  },
  {
   "cell_type": "markdown",
   "metadata": {},
   "source": [
    "## Customer Acquisition\n",
    "\n",
    "Customer Acquisition comes in many shapes and forms - it could be content marketing, social media, search marketing, and email marketing, among others. Regardless of its form, these marketing campaigns target potential customers - humans - and humans have various decision mechanisms that vary depending on what they are purchasing. \n",
    "\n",
    "In marketing, a common tool to understanding the process of turning leads into customers - potential customers into actual customers, that is - is called the Marketing Funnel. In this method, customers start with a set of potential brands and methodically reduce that number to make a purchase. Let's dive deeper.\n",
    "\n",
    "<img src=\"https://i.ibb.co/1dCHDHn/mktg-Funnel.png\" alt=\"mktg-Funnel\" border=\"0\">\n",
    "\n",
    "The marketing funnel, shown above, has six stages, with each stage having a lesser number of candidates than the last.\n",
    "1. **Awareness** - stage at which firms raise awareness about a product or service through marketing campaigns, customer research, events, advertising, social media, and more. This generates a number of interested potential customers.\n",
    "2. **Interest** - once leads are generated, potential customers learn more about the company and products or services. In this stage, marketers can nurture leads through emails, newsletters and targeted content.\n",
    "3. **Consideration** - at this stage, interested customers become qualified leads that are considering purchasing the product. Here, marketers continue to nurture their relationships with qualified leads,  informing leads with case studies and free trials.\n",
    "4. **Intent** - after a survey, product demo or by simply adding an item to the shopping cart, a customer demonstates a legitimate interest in purchasing the product. If they have demonstrated said interest, they're in the intent state, in which marketers must make a good case why their product is the best choice for the customer, as compared to the competition's products.\n",
    "5. **Evaluation** - this is the stage in which buyers are making their final decision about the purchase. Marketers and sales work closely to convince the customer to purchase their brand's product/service.\n",
    "6. **Purchase** - the sales transaction is completed!\n",
    "\n",
    "While the marketing funnel can be a great conceptual tool and framework, it is often the case that customers follow a Customer Decision Journey process when making their purchasing options. This is because different customers (and different segments), have different decision processes.\n",
    "\n",
    "<img src=\"https://i.ibb.co/0GgxnGg/CDJ.png\" alt=\"CDJ\" border=\"0\">\n",
    "\n",
    "Above, the Customer Decision Journey (CDJ) has six stages within a loop with a \"shortcut\" in the loop for repeat customers. CDJ exemplifies a common approach to purchasing decisions, emphasizing the importance of word of mouth during this process.\n",
    "\n",
    "1. The customer begins by considering brands and products based on perceptions and exposure, typically generated by paid media. \n",
    "2. S/he then passes to an active evaluation of the brands and products, which includes gathering information from any sources, including owned media where they can see people's opinions and reviews about the product. \n",
    "3. The next stage is the point-of-purchase stage, in which customers select the brand they want to purchase from. \n",
    "4. Subsequently, the customer enjoys and engages with the product s/he just baught, building expectations to inform the next decision journey. \n",
    "5. At some point in the future, something may occur that triggers the customer to advocate for the product to another person, which establishes a new relationship between the customer, the potential customer and the brand. \n",
    "6. At this point, a new lead has been generated through advocacy and the previous customer has entered the loyalty loop, where s/he may become a repeat purchase."
   ]
  },
  {
   "cell_type": "code",
   "execution_count": 37,
   "metadata": {},
   "outputs": [
    {
     "data": {
      "text/html": [
       "<div>\n",
       "<style scoped>\n",
       "    .dataframe tbody tr th:only-of-type {\n",
       "        vertical-align: middle;\n",
       "    }\n",
       "\n",
       "    .dataframe tbody tr th {\n",
       "        vertical-align: top;\n",
       "    }\n",
       "\n",
       "    .dataframe thead th {\n",
       "        text-align: right;\n",
       "    }\n",
       "</style>\n",
       "<table border=\"1\" class=\"dataframe\">\n",
       "  <thead>\n",
       "    <tr style=\"text-align: right;\">\n",
       "      <th></th>\n",
       "      <th>gender</th>\n",
       "      <th>SeniorCitizen</th>\n",
       "      <th>Partner</th>\n",
       "      <th>Dependents</th>\n",
       "      <th>tenure</th>\n",
       "      <th>PhoneService</th>\n",
       "      <th>MultipleLines</th>\n",
       "      <th>InternetService</th>\n",
       "      <th>OnlineSecurity</th>\n",
       "      <th>OnlineBackup</th>\n",
       "      <th>DeviceProtection</th>\n",
       "      <th>TechSupport</th>\n",
       "      <th>StreamingTV</th>\n",
       "      <th>StreamingMovies</th>\n",
       "      <th>Contract</th>\n",
       "      <th>PaperlessBilling</th>\n",
       "      <th>PaymentMethod</th>\n",
       "      <th>MonthlyCharges</th>\n",
       "      <th>TotalCharges</th>\n",
       "      <th>Churn</th>\n",
       "    </tr>\n",
       "    <tr>\n",
       "      <th>customerID</th>\n",
       "      <th></th>\n",
       "      <th></th>\n",
       "      <th></th>\n",
       "      <th></th>\n",
       "      <th></th>\n",
       "      <th></th>\n",
       "      <th></th>\n",
       "      <th></th>\n",
       "      <th></th>\n",
       "      <th></th>\n",
       "      <th></th>\n",
       "      <th></th>\n",
       "      <th></th>\n",
       "      <th></th>\n",
       "      <th></th>\n",
       "      <th></th>\n",
       "      <th></th>\n",
       "      <th></th>\n",
       "      <th></th>\n",
       "      <th></th>\n",
       "    </tr>\n",
       "  </thead>\n",
       "  <tbody>\n",
       "    <tr>\n",
       "      <td>7590-VHVEG</td>\n",
       "      <td>Female</td>\n",
       "      <td>0</td>\n",
       "      <td>Yes</td>\n",
       "      <td>No</td>\n",
       "      <td>1</td>\n",
       "      <td>No</td>\n",
       "      <td>No phone service</td>\n",
       "      <td>DSL</td>\n",
       "      <td>No</td>\n",
       "      <td>Yes</td>\n",
       "      <td>No</td>\n",
       "      <td>No</td>\n",
       "      <td>No</td>\n",
       "      <td>No</td>\n",
       "      <td>Month-to-month</td>\n",
       "      <td>Yes</td>\n",
       "      <td>Electronic check</td>\n",
       "      <td>29.85</td>\n",
       "      <td>29.85</td>\n",
       "      <td>No</td>\n",
       "    </tr>\n",
       "    <tr>\n",
       "      <td>5575-GNVDE</td>\n",
       "      <td>Male</td>\n",
       "      <td>0</td>\n",
       "      <td>No</td>\n",
       "      <td>No</td>\n",
       "      <td>34</td>\n",
       "      <td>Yes</td>\n",
       "      <td>No</td>\n",
       "      <td>DSL</td>\n",
       "      <td>Yes</td>\n",
       "      <td>No</td>\n",
       "      <td>Yes</td>\n",
       "      <td>No</td>\n",
       "      <td>No</td>\n",
       "      <td>No</td>\n",
       "      <td>One year</td>\n",
       "      <td>No</td>\n",
       "      <td>Mailed check</td>\n",
       "      <td>56.95</td>\n",
       "      <td>1889.5</td>\n",
       "      <td>No</td>\n",
       "    </tr>\n",
       "    <tr>\n",
       "      <td>3668-QPYBK</td>\n",
       "      <td>Male</td>\n",
       "      <td>0</td>\n",
       "      <td>No</td>\n",
       "      <td>No</td>\n",
       "      <td>2</td>\n",
       "      <td>Yes</td>\n",
       "      <td>No</td>\n",
       "      <td>DSL</td>\n",
       "      <td>Yes</td>\n",
       "      <td>Yes</td>\n",
       "      <td>No</td>\n",
       "      <td>No</td>\n",
       "      <td>No</td>\n",
       "      <td>No</td>\n",
       "      <td>Month-to-month</td>\n",
       "      <td>Yes</td>\n",
       "      <td>Mailed check</td>\n",
       "      <td>53.85</td>\n",
       "      <td>108.15</td>\n",
       "      <td>Yes</td>\n",
       "    </tr>\n",
       "    <tr>\n",
       "      <td>7795-CFOCW</td>\n",
       "      <td>Male</td>\n",
       "      <td>0</td>\n",
       "      <td>No</td>\n",
       "      <td>No</td>\n",
       "      <td>45</td>\n",
       "      <td>No</td>\n",
       "      <td>No phone service</td>\n",
       "      <td>DSL</td>\n",
       "      <td>Yes</td>\n",
       "      <td>No</td>\n",
       "      <td>Yes</td>\n",
       "      <td>Yes</td>\n",
       "      <td>No</td>\n",
       "      <td>No</td>\n",
       "      <td>One year</td>\n",
       "      <td>No</td>\n",
       "      <td>Bank transfer (automatic)</td>\n",
       "      <td>42.30</td>\n",
       "      <td>1840.75</td>\n",
       "      <td>No</td>\n",
       "    </tr>\n",
       "    <tr>\n",
       "      <td>9237-HQITU</td>\n",
       "      <td>Female</td>\n",
       "      <td>0</td>\n",
       "      <td>No</td>\n",
       "      <td>No</td>\n",
       "      <td>2</td>\n",
       "      <td>Yes</td>\n",
       "      <td>No</td>\n",
       "      <td>Fiber optic</td>\n",
       "      <td>No</td>\n",
       "      <td>No</td>\n",
       "      <td>No</td>\n",
       "      <td>No</td>\n",
       "      <td>No</td>\n",
       "      <td>No</td>\n",
       "      <td>Month-to-month</td>\n",
       "      <td>Yes</td>\n",
       "      <td>Electronic check</td>\n",
       "      <td>70.70</td>\n",
       "      <td>151.65</td>\n",
       "      <td>Yes</td>\n",
       "    </tr>\n",
       "  </tbody>\n",
       "</table>\n",
       "</div>"
      ],
      "text/plain": [
       "            gender  SeniorCitizen Partner Dependents  tenure PhoneService  \\\n",
       "customerID                                                                  \n",
       "7590-VHVEG  Female              0     Yes         No       1           No   \n",
       "5575-GNVDE    Male              0      No         No      34          Yes   \n",
       "3668-QPYBK    Male              0      No         No       2          Yes   \n",
       "7795-CFOCW    Male              0      No         No      45           No   \n",
       "9237-HQITU  Female              0      No         No       2          Yes   \n",
       "\n",
       "               MultipleLines InternetService OnlineSecurity OnlineBackup  \\\n",
       "customerID                                                                 \n",
       "7590-VHVEG  No phone service             DSL             No          Yes   \n",
       "5575-GNVDE                No             DSL            Yes           No   \n",
       "3668-QPYBK                No             DSL            Yes          Yes   \n",
       "7795-CFOCW  No phone service             DSL            Yes           No   \n",
       "9237-HQITU                No     Fiber optic             No           No   \n",
       "\n",
       "           DeviceProtection TechSupport StreamingTV StreamingMovies  \\\n",
       "customerID                                                            \n",
       "7590-VHVEG               No          No          No              No   \n",
       "5575-GNVDE              Yes          No          No              No   \n",
       "3668-QPYBK               No          No          No              No   \n",
       "7795-CFOCW              Yes         Yes          No              No   \n",
       "9237-HQITU               No          No          No              No   \n",
       "\n",
       "                  Contract PaperlessBilling              PaymentMethod  \\\n",
       "customerID                                                               \n",
       "7590-VHVEG  Month-to-month              Yes           Electronic check   \n",
       "5575-GNVDE        One year               No               Mailed check   \n",
       "3668-QPYBK  Month-to-month              Yes               Mailed check   \n",
       "7795-CFOCW        One year               No  Bank transfer (automatic)   \n",
       "9237-HQITU  Month-to-month              Yes           Electronic check   \n",
       "\n",
       "            MonthlyCharges TotalCharges Churn  \n",
       "customerID                                     \n",
       "7590-VHVEG           29.85        29.85    No  \n",
       "5575-GNVDE           56.95       1889.5    No  \n",
       "3668-QPYBK           53.85       108.15   Yes  \n",
       "7795-CFOCW           42.30      1840.75    No  \n",
       "9237-HQITU           70.70       151.65   Yes  "
      ]
     },
     "execution_count": 37,
     "metadata": {},
     "output_type": "execute_result"
    }
   ],
   "source": [
    "data.head()"
   ]
  },
  {
   "cell_type": "code",
   "execution_count": null,
   "metadata": {},
   "outputs": [],
   "source": []
  },
  {
   "cell_type": "code",
   "execution_count": null,
   "metadata": {},
   "outputs": [],
   "source": []
  },
  {
   "cell_type": "code",
   "execution_count": null,
   "metadata": {},
   "outputs": [],
   "source": []
  },
  {
   "cell_type": "markdown",
   "metadata": {},
   "source": [
    "Next, we will define a function that determines the expected number of transactions an individual will do in a given time period, and the probability of that customer being alive at that given time.\n",
    "\n",
    "You can find the derivation of all the functions in the appendix of <a href=\"http://www.brucehardie.com/papers/bgnbd_2004-04-20.pdf\">\"Counting Your Customers\" the Easy Way</a>. "
   ]
  },
  {
   "cell_type": "code",
   "execution_count": 32,
   "metadata": {},
   "outputs": [],
   "source": [
    "from scipy.special import gammaln"
   ]
  },
  {
   "cell_type": "code",
   "execution_count": 33,
   "metadata": {},
   "outputs": [],
   "source": [
    "LastPurchase = pd.read_csv(\"C:/Users/melul/Desktop/BTYD/RawBGNBDData.csv\", header=0, index_col=0)\n",
    "LastPurchase.columns = [\"Transactions\",\"LastPurchase\",\"Tracked\"]"
   ]
  },
  {
   "cell_type": "code",
   "execution_count": 34,
   "metadata": {},
   "outputs": [
    {
     "data": {
      "text/html": [
       "<div>\n",
       "<style scoped>\n",
       "    .dataframe tbody tr th:only-of-type {\n",
       "        vertical-align: middle;\n",
       "    }\n",
       "\n",
       "    .dataframe tbody tr th {\n",
       "        vertical-align: top;\n",
       "    }\n",
       "\n",
       "    .dataframe thead th {\n",
       "        text-align: right;\n",
       "    }\n",
       "</style>\n",
       "<table border=\"1\" class=\"dataframe\">\n",
       "  <thead>\n",
       "    <tr style=\"text-align: right;\">\n",
       "      <th></th>\n",
       "      <th>Transactions</th>\n",
       "      <th>LastPurchase</th>\n",
       "      <th>Tracked</th>\n",
       "    </tr>\n",
       "    <tr>\n",
       "      <th>ID</th>\n",
       "      <th></th>\n",
       "      <th></th>\n",
       "      <th></th>\n",
       "    </tr>\n",
       "  </thead>\n",
       "  <tbody>\n",
       "    <tr>\n",
       "      <td>1</td>\n",
       "      <td>2</td>\n",
       "      <td>30.43</td>\n",
       "      <td>38.86</td>\n",
       "    </tr>\n",
       "    <tr>\n",
       "      <td>2</td>\n",
       "      <td>1</td>\n",
       "      <td>1.71</td>\n",
       "      <td>38.86</td>\n",
       "    </tr>\n",
       "    <tr>\n",
       "      <td>3</td>\n",
       "      <td>0</td>\n",
       "      <td>0.00</td>\n",
       "      <td>38.86</td>\n",
       "    </tr>\n",
       "    <tr>\n",
       "      <td>4</td>\n",
       "      <td>0</td>\n",
       "      <td>0.00</td>\n",
       "      <td>38.86</td>\n",
       "    </tr>\n",
       "    <tr>\n",
       "      <td>5</td>\n",
       "      <td>0</td>\n",
       "      <td>0.00</td>\n",
       "      <td>38.86</td>\n",
       "    </tr>\n",
       "  </tbody>\n",
       "</table>\n",
       "</div>"
      ],
      "text/plain": [
       "    Transactions  LastPurchase  Tracked\n",
       "ID                                     \n",
       "1              2         30.43    38.86\n",
       "2              1          1.71    38.86\n",
       "3              0          0.00    38.86\n",
       "4              0          0.00    38.86\n",
       "5              0          0.00    38.86"
      ]
     },
     "execution_count": 34,
     "metadata": {},
     "output_type": "execute_result"
    }
   ],
   "source": [
    "LastPurchase.head()"
   ]
  },
  {
   "cell_type": "code",
   "execution_count": 35,
   "metadata": {},
   "outputs": [],
   "source": [
    "def bgnbd(parameters):\n",
    "    r, alpha, a, b = parameters\n",
    "    reti = []\n",
    "    for i, row in LastPurchase.iterrows():\n",
    "        ln1 = gammaln(r+row.Transactions)-gammaln(r)+(r*np.log(alpha))\n",
    "        ln2 = gammaln(a+b)+gammaln(b+row.Transactions)-gammaln(b)-gammaln(a+b+row.Transactions)\n",
    "        ln3 = -(r+row.Transactions)*np.log(alpha+row.Tracked)\n",
    "        if row.Transactions > 0:\n",
    "            ln4 = np.log(alpha)-np.log(b+row.Transactions-1)-(r+row.Transactions)*np.log(alpha+row.LastPurchase)\n",
    "            dd = 1\n",
    "        elif row.Transactions == 0:\n",
    "            ln4 = 0\n",
    "            dd = 0\n",
    "        lntot = (ln1 + ln2 + np.log(np.exp(ln3)+(dd*np.exp(ln4))))*-1\n",
    "        reti.append(lntot)\n",
    "    return(sum(reti))"
   ]
  },
  {
   "cell_type": "code",
   "execution_count": 36,
   "metadata": {},
   "outputs": [
    {
     "name": "stdout",
     "output_type": "stream",
     "text": [
      "Positive directional derivative for linesearch    (Exit mode 8)\n",
      "            Current function value: 4140.470990956655\n",
      "            Iterations: 8\n",
      "            Function evaluations: 26\n",
      "            Gradient evaluations: 4\n",
      "Our alpha equals: 20.60337%\n"
     ]
    }
   ],
   "source": [
    "#Define bounds for out input and \n",
    "bound = [(0.0000001,10),(0.0000001,10),(0.0000001,10),(0.0000001,10)]\n",
    "erre = [1,1,1,1]\n",
    "res = minimize(bgnbd,erre,method='SLSQP', bounds = bound,options={'disp':True})\n",
    "print(f\"Our alpha equals: {round(res.x[0]*100,5)}%\")"
   ]
  }
 ],
 "metadata": {
  "kernelspec": {
   "display_name": "Python 3",
   "language": "python",
   "name": "python3"
  },
  "language_info": {
   "codemirror_mode": {
    "name": "ipython",
    "version": 3
   },
   "file_extension": ".py",
   "mimetype": "text/x-python",
   "name": "python",
   "nbconvert_exporter": "python",
   "pygments_lexer": "ipython3",
   "version": "3.7.4"
  }
 },
 "nbformat": 4,
 "nbformat_minor": 2
}
